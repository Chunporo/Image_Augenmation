{
 "cells": [
  {
   "cell_type": "code",
   "execution_count": 5,
   "id": "8676398d-f0bd-4ccc-89ed-d0e354f13f34",
   "metadata": {},
   "outputs": [],
   "source": [
    "import imgaug.augmenters as iaa\n",
    "import cv2\n",
    "import matplotlib.pyplot as plt"
   ]
  },
  {
   "cell_type": "code",
   "execution_count": null,
   "id": "47820c6b-1bd9-4a86-b5b6-e17b51b5ea99",
   "metadata": {},
   "outputs": [
    {
     "ename": "error",
     "evalue": "OpenCV(4.8.1) /io/opencv/modules/highgui/src/window.cpp:1272: error: (-2:Unspecified error) The function is not implemented. Rebuild the library with Windows, GTK+ 2.x or Cocoa support. If you are on Ubuntu or Debian, install libgtk2.0-dev and pkg-config, then re-run cmake or configure script in function 'cvShowImage'\n",
     "output_type": "error",
     "traceback": [
      "\u001b[0;31m---------------------------------------------------------------------------\u001b[0m",
      "\u001b[0;31merror\u001b[0m                                     Traceback (most recent call last)",
      "Cell \u001b[0;32mIn[6], line 16\u001b[0m\n\u001b[1;32m     13\u001b[0m image_aug \u001b[38;5;241m=\u001b[39m seq(image\u001b[38;5;241m=\u001b[39mimage)\n\u001b[1;32m     15\u001b[0m \u001b[38;5;66;03m# Display original and augmented images side by side\u001b[39;00m\n\u001b[0;32m---> 16\u001b[0m \u001b[43mcv2\u001b[49m\u001b[38;5;241;43m.\u001b[39;49m\u001b[43mimshow\u001b[49m\u001b[43m(\u001b[49m\u001b[38;5;124;43m\"\u001b[39;49m\u001b[38;5;124;43mOriginal image\u001b[39;49m\u001b[38;5;124;43m\"\u001b[39;49m\u001b[43m,\u001b[49m\u001b[43m \u001b[49m\u001b[43mimage\u001b[49m\u001b[43m)\u001b[49m\n\u001b[1;32m     17\u001b[0m cv2\u001b[38;5;241m.\u001b[39mimshow(\u001b[38;5;124m\"\u001b[39m\u001b[38;5;124mAugmented image\u001b[39m\u001b[38;5;124m\"\u001b[39m, image_aug)\n\u001b[1;32m     18\u001b[0m cv2\u001b[38;5;241m.\u001b[39mwaitKey(\u001b[38;5;241m0\u001b[39m)\n",
      "\u001b[0;31merror\u001b[0m: OpenCV(4.8.1) /io/opencv/modules/highgui/src/window.cpp:1272: error: (-2:Unspecified error) The function is not implemented. Rebuild the library with Windows, GTK+ 2.x or Cocoa support. If you are on Ubuntu or Debian, install libgtk2.0-dev and pkg-config, then re-run cmake or configure script in function 'cvShowImage'\n"
     ]
    }
   ],
   "source": [
    "# Load image\n",
    "image = cv2.imread(\"cat.jpg\")\n",
    "\n",
    "# Define augmentation sequence\n",
    "seq = iaa.Sequential([\n",
    "    iaa.Flipud(p=0.5), # flip the image vertically\n",
    "    iaa.Affine(rotate=(-10, 10)), # rotate the image by -10 to 10 degrees\n",
    "    iaa.GaussianBlur(sigma=(0, 3.0)), # apply gaussian blur with a sigma between 0 and 3.0\n",
    "    iaa.AdditiveGaussianNoise(scale=(0, 0.1*255)), # add gaussian noise with a scale between 0 and 0.1*255\n",
    "])\n",
    "\n",
    "# Apply augmentation sequence to image\n",
    "image_aug = seq(image=image)\n",
    "\n",
    "# Display original and augmented images side by side\n",
    "cv2.imshow(\"Original image\", image)\n",
    "cv2.imshow(\"Augmented image\", image_aug)\n",
    "cv2.waitKey(0)"
   ]
  },
  {
   "cell_type": "code",
   "execution_count": 3,
   "id": "bfdf19af",
   "metadata": {},
   "outputs": [
    {
     "name": "stdout",
     "output_type": "stream",
     "text": [
      "The number of positive integers between 1000 and 9999 not divisible by 3, 5, or 7 is: 4114\n"
     ]
    }
   ],
   "source": [
    "def count_numbers_not_divisible():\n",
    "    count = 0\n",
    "    for num in range(1000, 10000):\n",
    "        if num % 3 != 0 and num % 5 != 0 and num % 7 != 0:\n",
    "            count += 1\n",
    "    return count\n",
    "\n",
    "result = count_numbers_not_divisible()\n",
    "print(f\"The number of positive integers between 1000 and 9999 not divisible by 3, 5, or 7 is: {result}\")\n"
   ]
  }
 ],
 "metadata": {
  "kernelspec": {
   "display_name": "Python 3 (ipykernel)",
   "language": "python",
   "name": "python3"
  },
  "language_info": {
   "codemirror_mode": {
    "name": "ipython",
    "version": 3
   },
   "file_extension": ".py",
   "mimetype": "text/x-python",
   "name": "python",
   "nbconvert_exporter": "python",
   "pygments_lexer": "ipython3",
   "version": "3.11.0"
  }
 },
 "nbformat": 4,
 "nbformat_minor": 5
}
